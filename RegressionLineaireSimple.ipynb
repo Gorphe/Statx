{
  "nbformat": 4,
  "nbformat_minor": 0,
  "metadata": {
    "colab": {
      "name": "RegressionLineaireSimple.ipynb",
      "provenance": [],
      "collapsed_sections": [],
      "authorship_tag": "ABX9TyNiQ7u2d9D7moNxhoX/Xoxh",
      "include_colab_link": true
    },
    "kernelspec": {
      "name": "python3",
      "display_name": "Python 3"
    },
    "language_info": {
      "name": "python"
    }
  },
  "cells": [
    {
      "cell_type": "markdown",
      "metadata": {
        "id": "view-in-github",
        "colab_type": "text"
      },
      "source": [
        "<a href=\"https://colab.research.google.com/github/filsto/Statx/blob/master/RegressionLineaireSimple.ipynb\" target=\"_parent\"><img src=\"https://colab.research.google.com/assets/colab-badge.svg\" alt=\"Open In Colab\"/></a>"
      ]
    },
    {
      "cell_type": "code",
      "execution_count": null,
      "metadata": {
        "id": "Ighdc3xHi--6"
      },
      "outputs": [],
      "source": [
        "#function: create a linear model which try to fit the line y = x + 2 using SGD optimizer to minimize root-mean-square RMS loss function"
      ]
    },
    {
      "cell_type": "code",
      "source": [
        "import tensorflow as tf\n",
        "import numpy as np"
      ],
      "metadata": {
        "id": "j3nzfAJDj_AS"
      },
      "execution_count": null,
      "outputs": []
    },
    {
      "cell_type": "code",
      "source": [
        "#number of epoch\n",
        "num_epoch = 100\n",
        "\n",
        "#training data x and label y\n",
        "x = np.array([0., 1., 2., 3.], dtype=np.float32)\n",
        "y = np.array([2., 3., 4., 5.], dtype=np.float32)\n",
        "\n",
        "#convert x and y to 4x1 matrix\n",
        "x = np.reshape(x, [4,1])\n",
        "y = np.reshape(y, [4,1])\n",
        "\n",
        "# test set (using a little trick)\n",
        "x_test = x+0.5\n",
        "y_test = y+0.5"
      ],
      "metadata": {
        "id": "JMVSZlzBkCjF"
      },
      "execution_count": null,
      "outputs": []
    },
    {
      "cell_type": "code",
      "source": [
        "# this part of the script builds the tensorflow graph using the Python API\n",
        "\n",
        "#first declare placeholders for input x and label y\n",
        "#placeholders are tf vriables requiring to be explicitely fed by some input data\n",
        "x_ph = tf.placeholder(tf.float32, shape=[None,1])\n",
        "y_ph = tf.placeholder(tf.float32, shape=[None,1])\n",
        "\n"
      ],
      "metadata": {
        "id": "NljEU0byk3HK"
      },
      "execution_count": null,
      "outputs": []
    },
    {
      "cell_type": "code",
      "source": [
        "#variables (if not specified) will be learnt as the GradientDescentOptimizer is run\n",
        "\n",
        "#declare weight variable initialized using a truncated_normal law\n",
        "W = tf.Variable(tf.truncated_normal([1,1], stddev=0.1))\n",
        "\n",
        "#declare bias variable initialized to a constant 0.1\n",
        "b = tf.Variable(tf.constant(0.1, shape=[1]))\n",
        "\n",
        "#initialize variables just declared\n",
        "init = tf.initialized_all_variables()"
      ],
      "metadata": {
        "id": "0Kfr687VcLcr"
      },
      "execution_count": null,
      "outputs": []
    },
    {
      "cell_type": "code",
      "source": [
        "# in this part of the script, we build operators storing operations on the previous variables and placeholders. model: y=w*x+b\n",
        "y_pred = x_ph * W + b\n",
        "\n",
        "#loss function\n",
        "loss = tf.mul(tf.reduce_mean(tf.square(tf.sub(y_pred, y_ph))), 1./2)\n",
        "#create training graph\n",
        "train_op = tf.train.GradientDescentOptimizer(0.1).minimize(loss)"
      ],
      "metadata": {
        "id": "vsGsT1M6cVnZ"
      },
      "execution_count": null,
      "outputs": []
    },
    {
      "cell_type": "code",
      "source": [
        ""
      ],
      "metadata": {
        "id": "J6Li2OMbegIF"
      },
      "execution_count": null,
      "outputs": []
    },
    {
      "cell_type": "code",
      "source": [
        "#this part of the script runs the tensorflow graph (variables and operations operators) juste built\n",
        "with tf.Session as sess:\n",
        "  \n",
        "  #initialize all the variables by running the initializer operator\n",
        "  sess.run(init)\n",
        "  for epoch in xrange(num_epoch):\n",
        "    #run sequentially the train_op and loss oeprators with x_ph and y_ph placeholders def by variables x and y\n",
        "    _, loss_val = sess.run([train_op, loss], feed_dict={x_ph:x, y_ph:y})\n",
        "    print('epoch %d: loss is %.4f' % (epoch, loss_val))\n",
        "  \n",
        "  #see what model do in the test set by evaluating the y_pred operator using the x_test data\n",
        "  test_val = sess.run(y_pred, feed_dict={x_ph:x_test})\n",
        "  print('ground truth y is: %s' % y_test.flatten())\n",
        "  print('predict y is.    : %s' % test_val.flatten())"
      ],
      "metadata": {
        "id": "qcViCZ6KdNlT"
      },
      "execution_count": null,
      "outputs": []
    }
  ]
}